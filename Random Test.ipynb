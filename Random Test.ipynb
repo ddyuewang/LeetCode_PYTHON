{
 "cells": [
  {
   "cell_type": "markdown",
   "metadata": {},
   "source": [
    "### Code TEST"
   ]
  },
  {
   "cell_type": "code",
   "execution_count": 6,
   "metadata": {
    "collapsed": false,
    "scrolled": false
   },
   "outputs": [
    {
     "name": "stdout",
     "output_type": "stream",
     "text": [
      "0\n",
      "  1\n",
      "------------\n",
      "1\n",
      "  2\n",
      "  1\n",
      "------------\n",
      "2\n",
      "  3\n",
      "  2\n",
      "  1\n",
      "------------\n",
      "3\n",
      "  4\n",
      "  3\n",
      "  2\n",
      "  1\n",
      "------------\n",
      "4\n",
      "  5\n",
      "  4\n",
      "  3\n",
      "  2\n",
      "  1\n",
      "------------\n",
      "5\n",
      "  6\n",
      "  5\n",
      "  4\n",
      "  3\n",
      "  2\n",
      "  1\n",
      "------------\n",
      "6\n",
      "  6\n",
      "  5\n",
      "  4\n",
      "  3\n",
      "  2\n",
      "  1\n",
      "------------\n",
      "7\n",
      "  6\n",
      "  5\n",
      "  4\n",
      "  3\n",
      "  2\n",
      "  1\n",
      "------------\n",
      "8\n",
      "  6\n",
      "  5\n",
      "  4\n",
      "  3\n",
      "  2\n",
      "  1\n",
      "------------\n",
      "9\n",
      "  6\n",
      "  5\n",
      "  4\n",
      "  3\n",
      "  2\n",
      "  1\n",
      "------------\n"
     ]
    }
   ],
   "source": [
    "size = 10\n",
    "k = 3\n",
    "for i in range(size):\n",
    "    print i \n",
    "    for j in range(min(2 * k, i + 1), 0, -1):\n",
    "        print \" \",j\n",
    "    print \"------------\""
   ]
  },
  {
   "cell_type": "code",
   "execution_count": 7,
   "metadata": {
    "collapsed": false
   },
   "outputs": [
    {
     "data": {
      "text/plain": [
       "1"
      ]
     },
     "execution_count": 7,
     "metadata": {},
     "output_type": "execute_result"
    }
   ],
   "source": [
    "[1, -1][4 % 2]"
   ]
  },
  {
   "cell_type": "code",
   "execution_count": 8,
   "metadata": {
    "collapsed": false
   },
   "outputs": [
    {
     "data": {
      "text/plain": [
       "[0]"
      ]
     },
     "execution_count": 8,
     "metadata": {},
     "output_type": "execute_result"
    }
   ],
   "source": [
    "[4%2]"
   ]
  },
  {
   "cell_type": "code",
   "execution_count": null,
   "metadata": {
    "collapsed": true
   },
   "outputs": [],
   "source": []
  }
 ],
 "metadata": {
  "anaconda-cloud": {},
  "kernelspec": {
   "display_name": "Python [conda env:py27]",
   "language": "python",
   "name": "conda-env-py27-py"
  },
  "language_info": {
   "codemirror_mode": {
    "name": "ipython",
    "version": 2
   },
   "file_extension": ".py",
   "mimetype": "text/x-python",
   "name": "python",
   "nbconvert_exporter": "python",
   "pygments_lexer": "ipython2",
   "version": "2.7.12"
  }
 },
 "nbformat": 4,
 "nbformat_minor": 1
}
